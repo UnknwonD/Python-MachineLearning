{
  "nbformat": 4,
  "nbformat_minor": 0,
  "metadata": {
    "colab": {
      "name": "HelloML.ipynb",
      "provenance": [],
      "collapsed_sections": [],
      "authorship_tag": "ABX9TyMPJMOGR4kkpw7MLwTIJrE+",
      "include_colab_link": true
    },
    "kernelspec": {
      "name": "python3",
      "display_name": "Python 3"
    },
    "language_info": {
      "name": "python"
    }
  },
  "cells": [
    {
      "cell_type": "markdown",
      "metadata": {
        "id": "view-in-github",
        "colab_type": "text"
      },
      "source": [
        "<a href=\"https://colab.research.google.com/github/UnknwonD/Python-MachineLearning/blob/main/HelloML.ipynb\" target=\"_parent\"><img src=\"https://colab.research.google.com/assets/colab-badge.svg\" alt=\"Open In Colab\"/></a>"
      ]
    },
    {
      "cell_type": "code",
      "metadata": {
        "colab": {
          "base_uri": "https://localhost:8080/"
        },
        "id": "t8kH9znBx7c2",
        "outputId": "4800c4e6-ce20-4161-a28f-e883204feee7"
      },
      "source": [
        "def f(x) :\n",
        "  return 3*x + 1\n",
        "\n",
        "x = 10;\n",
        "y = f(x)\n",
        "\n",
        "print('y:', y );"
      ],
      "execution_count": null,
      "outputs": [
        {
          "output_type": "stream",
          "name": "stdout",
          "text": [
            "y: 31\n"
          ]
        }
      ]
    },
    {
      "cell_type": "code",
      "metadata": {
        "colab": {
          "base_uri": "https://localhost:8080/"
        },
        "id": "cGD5-_Ufyzyt",
        "outputId": "16e06af2-7c39-4772-e61b-a8f42c0e4df7"
      },
      "source": [
        "import tensorflow as tf\n",
        "import numpy as np\n",
        "\n",
        "xs = np.array([-1.0, 0.0, 1.0, 2.0, 3.0, 4.0])\n",
        "ys = np.array([-2.0, 1.0, 4.0, 7.0, 10., 13.])\n",
        "\n",
        "model = tf.keras.Sequential([\n",
        "                             tf.keras.layers.InputLayer(input_shape=(1,)),\n",
        "                             tf.keras.layers.Dense(1)\n",
        "])\n",
        "model.compile(optimizer='sgd', loss='mean_squared_error')\n",
        "\n",
        "model.fit(xs, ys, epochs=50)\n",
        "\n",
        "p = model.predict([10, 0])\n",
        "\n",
        "print('p = ', p)"
      ],
      "execution_count": 2,
      "outputs": [
        {
          "output_type": "stream",
          "name": "stdout",
          "text": [
            "Epoch 1/5\n",
            "1/1 [==============================] - 0s 299ms/step - loss: 95.6140\n",
            "Epoch 2/5\n",
            "1/1 [==============================] - 0s 17ms/step - loss: 75.2320\n",
            "Epoch 3/5\n",
            "1/1 [==============================] - 0s 7ms/step - loss: 59.1963\n",
            "Epoch 4/5\n",
            "1/1 [==============================] - 0s 12ms/step - loss: 46.5801\n",
            "Epoch 5/5\n",
            "1/1 [==============================] - 0s 13ms/step - loss: 36.6541\n",
            "p =  [[4.40928  ]\n",
            " [0.5560777]]\n"
          ]
        }
      ]
    },
    {
      "cell_type": "code",
      "metadata": {
        "id": "Yrsz_BhrqRzg"
      },
      "source": [
        "import numpy as np\n",
        "import time\n",
        "import matplotlib.pyplot as plt\n",
        "\n",
        "\n",
        "NUM_SAMPLES = 1000\n",
        "\n",
        "np.random.seed(int(time.time()))\n",
        "\n",
        "xs = np.random.uniform(-2, 2, NUM_SAMPLES)\n",
        "np.random.shuffle(xs)\n",
        "print(xs[:5])\n",
        "\n",
        "ys = (xs+1.7)*(xs+0.7)*(xs-0.3)*(xs-1.3)*(xs-1.9)+0.2\n",
        "print(ys[:5])\n",
        "\n",
        "plt.plot(xs, ys, 'b. ')\n",
        "plt.show()\n",
        "\n",
        "ys += 0.1*np.random.randn(NUM_SAMPLES)\n",
        "\n",
        "plt.plot(xs, ys, 'g. ')\n",
        "plt.show()\n",
        "\n",
        "NUM_SPLIT = int(0.8*NUM_SAMPLES)\n",
        "\n",
        "x_train, x_test = np.split(xs, [NUM_SPLIT])\n",
        "y_train, y_test = np.split(ys, [NUM_SPLIT])\n",
        "\n",
        "plt.plot(x_train, y_train, 'b. ', label='train')\n",
        "plt.plot(x_test, y_test, 'r. ', label='test')\n",
        "plt.legend()\n",
        "plt.show()\n",
        "\n",
        "import tensorflow as tf\n",
        "\n",
        "model_f = tf.keras.Sequential([\n",
        "                               tf.keras.layers.InputLayer(input_shape=(1,)),\n",
        "                               tf.keras.layers.Dense(16, activation='relu'),\n",
        "                               tf.keras.layers.Dense(16, activation='relu'),\n",
        "                               tf.keras.layers.Dense(1)\n",
        "])\n",
        "\n",
        "model_f.compile(optimizer='rmsprop', loss='mse')\n",
        "\n",
        "p_test = model_f.predict(x_test)\n",
        "\n",
        "plt.plot(x_test, y_test, 'b. ', label='actual')\n",
        "plt.plot(x_test, p_test, 'r. ', label='predicted')\n",
        "plt.legend()\n",
        "plt.show()\n",
        "\n",
        "model_f.fit(x_train, y_train, epochs=600)\n",
        "\n",
        "p_test = model_f.predict(x_test)\n",
        "\n",
        "plt.plot(x_test, y_test, 'b. ', label='actual')\n",
        "plt.plot(x_test, p_test, 'r. ', label='predicted')\n",
        "plt.legend()\n",
        "plt.show()\n",
        "\n"
      ],
      "execution_count": null,
      "outputs": []
    },
    {
      "cell_type": "code",
      "metadata": {
        "id": "tq0V88beXmi1"
      },
      "source": [
        "import tensorflow as tf\n",
        "\n",
        "mnist = tf.keras.datasets.mnist\n",
        "\n",
        "(x_train, y_train), (x_test, y_test) = mnist.load_data()\n",
        "x_train, x_test = x_train / 255.0, x_test / 255.0\n",
        "x_train, x_test = x_train.reshape((60000, 784)), x_test.reshape((10000, 784))\n",
        "\n",
        "model = tf.keras.Sequential([\n",
        "                             tf.keras.layers.InputLayer(input_shape=(784,)),\n",
        "                             tf.keras.layers.Dense(128, activation='relu'),\n",
        "                             tf.keras.layers.Dense(10, activation='softmax')\n",
        "])\n",
        "\n",
        "model.compile(optimizer='adam', \n",
        "              loss='sparse_categorical_crossentropy',\n",
        "              metrics=['accuracy'])\n",
        "\n",
        "model.fit(x_train, y_train, epochs=5)\n",
        "\n",
        "model.evaluate(x_test, y_test)"
      ],
      "execution_count": null,
      "outputs": []
    },
    {
      "cell_type": "code",
      "metadata": {
        "id": "ymIE2etYuyuq"
      },
      "source": [
        ""
      ],
      "execution_count": null,
      "outputs": []
    }
  ]
}